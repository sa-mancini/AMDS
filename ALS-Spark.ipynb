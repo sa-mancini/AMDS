{
 "cells": [
  {
   "cell_type": "markdown",
   "metadata": {
    "id": "PPfF1ohsfG1b"
   },
   "source": [
    "<h2> <b>P5. </b> Building a Recommendation System with Collaborative Filtering through ALS (Alternating Least Squares) using Spark <h2>"
   ]
  },
  {
   "cell_type": "markdown",
   "metadata": {
    "id": "bTpbEMO3fGmm"
   },
   "source": [
    "### Data gathering and preprocessing"
   ]
  },
  {
   "cell_type": "markdown",
   "metadata": {
    "id": "EsLECokgcIk_"
   },
   "source": [
    "Imports and init"
   ]
  },
  {
   "cell_type": "code",
   "execution_count": 1,
   "metadata": {
    "colab": {
     "base_uri": "https://localhost:8080/"
    },
    "id": "9mk2c9h7lmTN",
    "outputId": "38564fb1-b20f-41be-c89f-bb1316943b4a"
   },
   "outputs": [
    {
     "name": "stdout",
     "output_type": "stream",
     "text": [
      "Spark version: 3.5.1\n"
     ]
    }
   ],
   "source": [
    "!pip install -q pyspark findspark\n",
    "\n",
    "import findspark\n",
    "findspark.init()\n",
    "\n",
    "from pyspark.sql import SparkSession\n",
    "spark = SparkSession.builder.master(\"local[*]\").appName(\"ALS\").getOrCreate()\n",
    "print(\"Spark version:\", spark.version)"
   ]
  },
  {
   "cell_type": "code",
   "execution_count": 2,
   "metadata": {
    "id": "HBh2qCaGmYae"
   },
   "outputs": [],
   "source": [
    "import pandas as pd\n",
    "import numpy as np"
   ]
  },
  {
   "cell_type": "markdown",
   "metadata": {
    "id": "x7yhmWUGcK7w"
   },
   "source": [
    "Dl dataset using Kaggle API credentials"
   ]
  },
  {
   "cell_type": "code",
   "execution_count": 4,
   "metadata": {
    "colab": {
     "base_uri": "https://localhost:8080/",
     "height": 163
    },
    "id": "PKWKsSEMgAyQ",
    "outputId": "d6a6f9c1-98e4-4cf8-d443-90558305fceb"
   },
   "outputs": [
    {
     "data": {
      "text/html": [
       "\n",
       "     <input type=\"file\" id=\"files-a4e3aacc-509b-46bf-a0c8-a401e165db86\" name=\"files[]\" multiple disabled\n",
       "        style=\"border:none\" />\n",
       "     <output id=\"result-a4e3aacc-509b-46bf-a0c8-a401e165db86\">\n",
       "      Upload widget is only available when the cell has been executed in the\n",
       "      current browser session. Please rerun this cell to enable.\n",
       "      </output>\n",
       "      <script>// Copyright 2017 Google LLC\n",
       "//\n",
       "// Licensed under the Apache License, Version 2.0 (the \"License\");\n",
       "// you may not use this file except in compliance with the License.\n",
       "// You may obtain a copy of the License at\n",
       "//\n",
       "//      http://www.apache.org/licenses/LICENSE-2.0\n",
       "//\n",
       "// Unless required by applicable law or agreed to in writing, software\n",
       "// distributed under the License is distributed on an \"AS IS\" BASIS,\n",
       "// WITHOUT WARRANTIES OR CONDITIONS OF ANY KIND, either express or implied.\n",
       "// See the License for the specific language governing permissions and\n",
       "// limitations under the License.\n",
       "\n",
       "/**\n",
       " * @fileoverview Helpers for google.colab Python module.\n",
       " */\n",
       "(function(scope) {\n",
       "function span(text, styleAttributes = {}) {\n",
       "  const element = document.createElement('span');\n",
       "  element.textContent = text;\n",
       "  for (const key of Object.keys(styleAttributes)) {\n",
       "    element.style[key] = styleAttributes[key];\n",
       "  }\n",
       "  return element;\n",
       "}\n",
       "\n",
       "// Max number of bytes which will be uploaded at a time.\n",
       "const MAX_PAYLOAD_SIZE = 100 * 1024;\n",
       "\n",
       "function _uploadFiles(inputId, outputId) {\n",
       "  const steps = uploadFilesStep(inputId, outputId);\n",
       "  const outputElement = document.getElementById(outputId);\n",
       "  // Cache steps on the outputElement to make it available for the next call\n",
       "  // to uploadFilesContinue from Python.\n",
       "  outputElement.steps = steps;\n",
       "\n",
       "  return _uploadFilesContinue(outputId);\n",
       "}\n",
       "\n",
       "// This is roughly an async generator (not supported in the browser yet),\n",
       "// where there are multiple asynchronous steps and the Python side is going\n",
       "// to poll for completion of each step.\n",
       "// This uses a Promise to block the python side on completion of each step,\n",
       "// then passes the result of the previous step as the input to the next step.\n",
       "function _uploadFilesContinue(outputId) {\n",
       "  const outputElement = document.getElementById(outputId);\n",
       "  const steps = outputElement.steps;\n",
       "\n",
       "  const next = steps.next(outputElement.lastPromiseValue);\n",
       "  return Promise.resolve(next.value.promise).then((value) => {\n",
       "    // Cache the last promise value to make it available to the next\n",
       "    // step of the generator.\n",
       "    outputElement.lastPromiseValue = value;\n",
       "    return next.value.response;\n",
       "  });\n",
       "}\n",
       "\n",
       "/**\n",
       " * Generator function which is called between each async step of the upload\n",
       " * process.\n",
       " * @param {string} inputId Element ID of the input file picker element.\n",
       " * @param {string} outputId Element ID of the output display.\n",
       " * @return {!Iterable<!Object>} Iterable of next steps.\n",
       " */\n",
       "function* uploadFilesStep(inputId, outputId) {\n",
       "  const inputElement = document.getElementById(inputId);\n",
       "  inputElement.disabled = false;\n",
       "\n",
       "  const outputElement = document.getElementById(outputId);\n",
       "  outputElement.innerHTML = '';\n",
       "\n",
       "  const pickedPromise = new Promise((resolve) => {\n",
       "    inputElement.addEventListener('change', (e) => {\n",
       "      resolve(e.target.files);\n",
       "    });\n",
       "  });\n",
       "\n",
       "  const cancel = document.createElement('button');\n",
       "  inputElement.parentElement.appendChild(cancel);\n",
       "  cancel.textContent = 'Cancel upload';\n",
       "  const cancelPromise = new Promise((resolve) => {\n",
       "    cancel.onclick = () => {\n",
       "      resolve(null);\n",
       "    };\n",
       "  });\n",
       "\n",
       "  // Wait for the user to pick the files.\n",
       "  const files = yield {\n",
       "    promise: Promise.race([pickedPromise, cancelPromise]),\n",
       "    response: {\n",
       "      action: 'starting',\n",
       "    }\n",
       "  };\n",
       "\n",
       "  cancel.remove();\n",
       "\n",
       "  // Disable the input element since further picks are not allowed.\n",
       "  inputElement.disabled = true;\n",
       "\n",
       "  if (!files) {\n",
       "    return {\n",
       "      response: {\n",
       "        action: 'complete',\n",
       "      }\n",
       "    };\n",
       "  }\n",
       "\n",
       "  for (const file of files) {\n",
       "    const li = document.createElement('li');\n",
       "    li.append(span(file.name, {fontWeight: 'bold'}));\n",
       "    li.append(span(\n",
       "        `(${file.type || 'n/a'}) - ${file.size} bytes, ` +\n",
       "        `last modified: ${\n",
       "            file.lastModifiedDate ? file.lastModifiedDate.toLocaleDateString() :\n",
       "                                    'n/a'} - `));\n",
       "    const percent = span('0% done');\n",
       "    li.appendChild(percent);\n",
       "\n",
       "    outputElement.appendChild(li);\n",
       "\n",
       "    const fileDataPromise = new Promise((resolve) => {\n",
       "      const reader = new FileReader();\n",
       "      reader.onload = (e) => {\n",
       "        resolve(e.target.result);\n",
       "      };\n",
       "      reader.readAsArrayBuffer(file);\n",
       "    });\n",
       "    // Wait for the data to be ready.\n",
       "    let fileData = yield {\n",
       "      promise: fileDataPromise,\n",
       "      response: {\n",
       "        action: 'continue',\n",
       "      }\n",
       "    };\n",
       "\n",
       "    // Use a chunked sending to avoid message size limits. See b/62115660.\n",
       "    let position = 0;\n",
       "    do {\n",
       "      const length = Math.min(fileData.byteLength - position, MAX_PAYLOAD_SIZE);\n",
       "      const chunk = new Uint8Array(fileData, position, length);\n",
       "      position += length;\n",
       "\n",
       "      const base64 = btoa(String.fromCharCode.apply(null, chunk));\n",
       "      yield {\n",
       "        response: {\n",
       "          action: 'append',\n",
       "          file: file.name,\n",
       "          data: base64,\n",
       "        },\n",
       "      };\n",
       "\n",
       "      let percentDone = fileData.byteLength === 0 ?\n",
       "          100 :\n",
       "          Math.round((position / fileData.byteLength) * 100);\n",
       "      percent.textContent = `${percentDone}% done`;\n",
       "\n",
       "    } while (position < fileData.byteLength);\n",
       "  }\n",
       "\n",
       "  // All done.\n",
       "  yield {\n",
       "    response: {\n",
       "      action: 'complete',\n",
       "    }\n",
       "  };\n",
       "}\n",
       "\n",
       "scope.google = scope.google || {};\n",
       "scope.google.colab = scope.google.colab || {};\n",
       "scope.google.colab._files = {\n",
       "  _uploadFiles,\n",
       "  _uploadFilesContinue,\n",
       "};\n",
       "})(self);\n",
       "</script> "
      ],
      "text/plain": [
       "<IPython.core.display.HTML object>"
      ]
     },
     "metadata": {},
     "output_type": "display_data"
    },
    {
     "name": "stdout",
     "output_type": "stream",
     "text": [
      "Saving kaggle.json to kaggle.json\n",
      "Dataset URL: https://www.kaggle.com/datasets/mohamedbakhet/amazon-books-reviews\n",
      "License(s): CC0-1.0\n",
      "Downloading amazon-books-reviews.zip to ./data\n",
      " 99% 1.05G/1.06G [00:04<00:00, 271MB/s]\n",
      "100% 1.06G/1.06G [00:04<00:00, 245MB/s]\n"
     ]
    }
   ],
   "source": [
    "from google.colab import files\n",
    "uploaded = files.upload()\n",
    "\n",
    "!mkdir -p ~/.kaggle\n",
    "!mv kaggle.json ~/.kaggle/\n",
    "!chmod 600 ~/.kaggle/kaggle.json\n",
    "\n",
    "!kaggle datasets download -d mohamedbakhet/amazon-books-reviews -p ./data --unzip"
   ]
  },
  {
   "cell_type": "markdown",
   "metadata": {
    "id": "DwCDh7VKcT2m"
   },
   "source": [
    "Dataframe building and conversion"
   ]
  },
  {
   "cell_type": "code",
   "execution_count": 5,
   "metadata": {
    "colab": {
     "base_uri": "https://localhost:8080/"
    },
    "id": "z_-CYWWSnA6I",
    "outputId": "30c5d1f7-dca1-4c45-a86f-c14a8d7706b8"
   },
   "outputs": [
    {
     "name": "stdout",
     "output_type": "stream",
     "text": [
      "root\n",
      " |-- User_id: string (nullable = true)\n",
      " |-- profileName: string (nullable = true)\n",
      " |-- Id: string (nullable = true)\n",
      " |-- Title: string (nullable = true)\n",
      " |-- review/score: double (nullable = true)\n",
      "\n",
      "+--------------+--------------------+----------+--------------------+------------+\n",
      "|       User_id|         profileName|        Id|               Title|review/score|\n",
      "+--------------+--------------------+----------+--------------------+------------+\n",
      "| AVCGYZL8FQQTD|Jim of Oz \"jim-of...|1882931173|Its Only Art If I...|         4.0|\n",
      "|A30TK6U7DNS82R|       Kevin Killian|0826414346|Dr. Seuss: Americ...|         5.0|\n",
      "|A3UH4UZ4RSVO82|        John Granger|0826414346|Dr. Seuss: Americ...|         5.0|\n",
      "|A2MVUWT453QH61|Roy E. Perry \"ama...|0826414346|Dr. Seuss: Americ...|         4.0|\n",
      "|A22X4XUPKF66MR|D. H. Richards \"n...|0826414346|Dr. Seuss: Americ...|         4.0|\n",
      "+--------------+--------------------+----------+--------------------+------------+\n",
      "only showing top 5 rows\n",
      "\n"
     ]
    }
   ],
   "source": [
    "import os\n",
    "df = pd.read_csv(\"./data/Books_rating.csv\")\n",
    "df = df[[\"User_id\", \"profileName\", \"Id\",  \"Title\", \"review/score\"]].dropna()\n",
    "\n",
    "sdf = spark.createDataFrame(df)\n",
    "sdf.printSchema()\n",
    "sdf.show(5)"
   ]
  },
  {
   "cell_type": "markdown",
   "metadata": {
    "id": "AardF3edcbbv"
   },
   "source": [
    "Minimal filtering and normalization"
   ]
  },
  {
   "cell_type": "code",
   "execution_count": 6,
   "metadata": {
    "colab": {
     "base_uri": "https://localhost:8080/"
    },
    "id": "YXNQRiBgnLTg",
    "outputId": "b83433c9-0aec-4f89-e466-72c7a99ab477"
   },
   "outputs": [
    {
     "name": "stdout",
     "output_type": "stream",
     "text": [
      "After minimal filtering:\n",
      "Total rows: 1065959\n",
      "Unique users: 82427\n",
      "Unique books: 63548\n",
      "+----------+--------------------+-----------+--------------------+------------+-----------------+\n",
      "|        Id|             User_id|profileName|               Title|review/score|rating_normalized|\n",
      "+----------+--------------------+-----------+--------------------+------------+-----------------+\n",
      "|B0007G66WI|A0015610VMNR0JC9XVL1|  ivan kaye|The richest man i...|         5.0| 0.99999950000025|\n",
      "|0785263500|A0015610VMNR0JC9XVL1|  ivan kaye|        ATTITUDE 101|         3.0|              0.0|\n",
      "|B0007DRIT6|A0015610VMNR0JC9XVL1|  ivan kaye|The richest man i...|         5.0| 0.99999950000025|\n",
      "|B0007GMLQI|A0015610VMNR0JC9XVL1|  ivan kaye|The richest man i...|         5.0| 0.99999950000025|\n",
      "|B000GQMVWI|A0015610VMNR0JC9XVL1|  ivan kaye|The Richest Man i...|         5.0| 0.99999950000025|\n",
      "+----------+--------------------+-----------+--------------------+------------+-----------------+\n",
      "only showing top 5 rows\n",
      "\n"
     ]
    }
   ],
   "source": [
    "from pyspark.sql.functions import col, count, mean\n",
    "\n",
    "min_user_ratings = 5\n",
    "min_book_ratings = 5\n",
    "\n",
    "active_users = sdf.groupBy(\"User_id\").agg(count(\"*\").alias(\"num_ratings\")).filter(col(\"num_ratings\") >= min_user_ratings).select(\"User_id\")\n",
    "popular_books = sdf.groupBy(\"Id\").agg(count(\"*\").alias(\"num_ratings\")).filter(col(\"num_ratings\") >= min_book_ratings).select(\"Id\")\n",
    "\n",
    "sdf_filtered = sdf.join(active_users, on=\"User_id\").join(popular_books, on=\"Id\")\n",
    "\n",
    "print(\"After minimal filtering:\")\n",
    "print(\"Total rows:\", sdf_filtered.count())\n",
    "print(\"Unique users:\", sdf_filtered.select(\"User_id\").distinct().count())\n",
    "print(\"Unique books:\", sdf_filtered.select(\"Id\").distinct().count())\n",
    "\n",
    "from pyspark.sql.window import Window\n",
    "from pyspark.sql.functions import min, max\n",
    "\n",
    "window_user = Window.partitionBy(\"User_id\")\n",
    "sdf_normalized = sdf_filtered.withColumn(\n",
    "    \"rating_normalized\",\n",
    "    (col(\"review/score\") - min(\"review/score\").over(window_user)) /\n",
    "    (max(\"review/score\").over(window_user) - min(\"review/score\").over(window_user) + 1e-6)\n",
    ")\n",
    "sdf_normalized.show(5)"
   ]
  },
  {
   "cell_type": "markdown",
   "metadata": {
    "id": "JZOz-ecrcgPD"
   },
   "source": [
    "Adding indices for \"utility matrix\"-like functionality \\\n",
    "*(Only takes 1 min but sometimes it bugs out, resumes working normally after manually stopping the runtime and re-running 1 or 2 times)*"
   ]
  },
  {
   "cell_type": "code",
   "execution_count": 9,
   "metadata": {
    "colab": {
     "base_uri": "https://localhost:8080/"
    },
    "id": "x4mkGmdJoI4H",
    "outputId": "276e1a4d-b064-400a-f909-401dc87383c0"
   },
   "outputs": [
    {
     "name": "stdout",
     "output_type": "stream",
     "text": [
      "+----------+--------------------+-----------+--------------------+------------+-----------------+--------+--------+\n",
      "|        Id|             User_id|profileName|               Title|review/score|rating_normalized|user_idx|book_idx|\n",
      "+----------+--------------------+-----------+--------------------+------------+-----------------+--------+--------+\n",
      "|B0007G66WI|A0015610VMNR0JC9XVL1|  ivan kaye|The richest man i...|         5.0| 0.99999950000025|   49270|     216|\n",
      "|0785263500|A0015610VMNR0JC9XVL1|  ivan kaye|        ATTITUDE 101|         3.0|              0.0|   49270|   10003|\n",
      "|B0007DRIT6|A0015610VMNR0JC9XVL1|  ivan kaye|The richest man i...|         5.0| 0.99999950000025|   49270|     215|\n",
      "|B0007GMLQI|A0015610VMNR0JC9XVL1|  ivan kaye|The richest man i...|         5.0| 0.99999950000025|   49270|     217|\n",
      "|B000GQMVWI|A0015610VMNR0JC9XVL1|  ivan kaye|The Richest Man i...|         5.0| 0.99999950000025|   49270|     218|\n",
      "+----------+--------------------+-----------+--------------------+------------+-----------------+--------+--------+\n",
      "only showing top 5 rows\n",
      "\n"
     ]
    }
   ],
   "source": [
    "from pyspark.sql.functions import col, lit\n",
    "from pyspark.ml.feature import StringIndexer\n",
    "\n",
    "# add unique integer indices for users and items\n",
    "\n",
    "user_indexer = StringIndexer(inputCol=\"User_id\", outputCol=\"user_idx\").fit(sdf_normalized)\n",
    "book_indexer = StringIndexer(inputCol=\"Id\", outputCol=\"book_idx\").fit(sdf_normalized)\n",
    "\n",
    "sdf_indexed = user_indexer.transform(sdf_normalized)\n",
    "sdf_indexed = book_indexer.transform(sdf_indexed)\n",
    "\n",
    "# convert indices to integer type for computations\n",
    "sdf_indexed = sdf_indexed.withColumn(\"user_idx\", col(\"user_idx\").cast(\"int\"))\n",
    "sdf_indexed = sdf_indexed.withColumn(\"book_idx\", col(\"book_idx\").cast(\"int\"))\n",
    "\n",
    "sdf_indexed.show(5)"
   ]
  },
  {
   "cell_type": "markdown",
   "metadata": {
    "id": "5-KAOTv2cnhu"
   },
   "source": [
    "### Algorithm implementation and training"
   ]
  },
  {
   "cell_type": "markdown",
   "metadata": {
    "id": "R2RGmjjddeA_"
   },
   "source": [
    "Train/test split"
   ]
  },
  {
   "cell_type": "code",
   "execution_count": 10,
   "metadata": {
    "colab": {
     "base_uri": "https://localhost:8080/"
    },
    "id": "ojzo0jC_pK3U",
    "outputId": "890968d5-f1aa-4f3a-f8ed-2d88f1e93c41"
   },
   "outputs": [
    {
     "name": "stdout",
     "output_type": "stream",
     "text": [
      "Train rows: 852663 Test rows: 213296\n"
     ]
    }
   ],
   "source": [
    "train_df, test_df = sdf_indexed.randomSplit([0.8, 0.2], seed=42)\n",
    "print(\"Train rows:\", train_df.count(), \"Test rows:\", test_df.count())"
   ]
  },
  {
   "cell_type": "markdown",
   "metadata": {
    "id": "K0u6valVdfvM"
   },
   "source": [
    "ALS from scratch"
   ]
  },
  {
   "cell_type": "code",
   "execution_count": 11,
   "metadata": {
    "id": "gbe8fZmapL0e"
   },
   "outputs": [],
   "source": [
    "def initialize_factors(num_users, num_items, k, avg_rating):\n",
    "    a = np.sqrt(avg_rating / k)\n",
    "    w = np.full((num_users, k), a)\n",
    "    v = np.full((num_items, k), a)\n",
    "    return w, v\n",
    "\n",
    "def update_user_vector(ratings_list, v, k, lambda_reg):\n",
    "    w_new = np.zeros(k)\n",
    "    for s in range(k):\n",
    "        numerator, denominator = 0.0, 0.0\n",
    "        for i_idx, r_ui in ratings_list:\n",
    "            pred_others = sum(w_new[kk] * v[i_idx, kk] for kk in range(k) if kk != s)\n",
    "            numerator += (r_ui - pred_others) * v[i_idx, s]\n",
    "            denominator += v[i_idx, s]**2\n",
    "        w_new[s] = numerator / (denominator + lambda_reg)\n",
    "    return w_new\n",
    "\n",
    "def update_item_vector(ratings_list, w, k, lambda_reg):\n",
    "    v_new = np.zeros(k)\n",
    "    for s in range(k):\n",
    "        numerator, denominator = 0.0, 0.0\n",
    "        for u_idx, r_ui in ratings_list:\n",
    "            pred_others = sum(w[u_idx, kk] * v_new[kk] for kk in range(k) if kk != s)\n",
    "            numerator += (r_ui - pred_others) * w[u_idx, s]\n",
    "            denominator += w[u_idx, s]**2\n",
    "        v_new[s] = numerator / (denominator + lambda_reg)\n",
    "    return v_new\n",
    "\n",
    "def compute_rmse_spark(sdf_eval, w, v):\n",
    "    def squared_error(row):\n",
    "        u = int(row['user_idx'])\n",
    "        i = int(row['book_idx'])\n",
    "        return float((row['rating_normalized'] - np.dot(w[u,:], v[i,:]))**2)\n",
    "    mse = sdf_eval.rdd.map(squared_error).mean()\n",
    "    return np.sqrt(mse)"
   ]
  },
  {
   "cell_type": "markdown",
   "metadata": {
    "id": "-E0nRwMqGu2p"
   },
   "source": [
    "[OPTIONAL] Hyperparameter tuning (k, lr) based on test RMSE (may take ~25min)"
   ]
  },
  {
   "cell_type": "code",
   "execution_count": null,
   "metadata": {
    "colab": {
     "base_uri": "https://localhost:8080/",
     "height": 370,
     "referenced_widgets": [
      "b400db89de7c4feab7c5cc449e43be70",
      "bfe274409f72445ea023bbd3d2cf4a3a",
      "ac9b3b73ae9f4f82a2d0bb99fd067479",
      "eafff4bfb1da4165affdb172601aaac2",
      "a166f1e781c149518ecb24306e758fcb",
      "d7523fa6b0884898abc8781f6df19520",
      "e11c1126434d4af5907307b6cb82e016",
      "5f7539ae2355435e9867ae2dbe60add8",
      "8bf0fa28981f44aa871dfedbd5d25d9e",
      "96e1a90f4b9d47e38e28c7079832f331",
      "3b725615494e448cb0762bbc8e672c1b"
     ]
    },
    "id": "CQSW1oLaqNpi",
    "outputId": "80d030c2-25b4-4c77-c40a-8302b2660fb2"
   },
   "outputs": [
    {
     "data": {
      "application/vnd.jupyter.widget-view+json": {
       "model_id": "b400db89de7c4feab7c5cc449e43be70",
       "version_major": 2,
       "version_minor": 0
      },
      "text/plain": [
       "Hyperparam tuning:   0%|          | 0/4 [00:00<?, ?it/s]"
      ]
     },
     "metadata": {},
     "output_type": "display_data"
    },
    {
     "name": "stdout",
     "output_type": "stream",
     "text": [
      "k=2, lambda=0.01, epochs=5 -> Test RMSE=0.3454\n",
      "k=2, lambda=0.1, epochs=5 -> Test RMSE=0.3038\n",
      "k=5, lambda=0.01, epochs=5 -> Test RMSE=0.3550\n",
      "k=5, lambda=0.1, epochs=5 -> Test RMSE=0.3084\n",
      "\n",
      "Best params: {'k': 2, 'lambda': 0.1, 'num_epochs': 5, 'w': array([[ 1.91053662, -0.18643413],\n",
      "       [ 1.63457627, -0.01341691],\n",
      "       [ 1.84052015, -0.17865391],\n",
      "       ...,\n",
      "       [ 0.49675774,  0.49675774],\n",
      "       [ 0.        ,  0.        ],\n",
      "       [ 0.        ,  0.        ]]), 'v': array([[ 0.66144841,  0.13213412],\n",
      "       [ 0.65726526,  0.13545626],\n",
      "       [ 0.66462357,  0.13122292],\n",
      "       ...,\n",
      "       [ 0.84329707, -0.15924905],\n",
      "       [ 0.66063364, -0.05270086],\n",
      "       [ 0.        ,  0.        ]])} Best Test RMSE: 0.30380273173143235\n"
     ]
    }
   ],
   "source": [
    "from pyspark.sql import functions as F\n",
    "from tqdm.notebook import tqdm\n",
    "\n",
    "k_list = [2, 5]\n",
    "lambda_list = [0.01, 0.1]\n",
    "num_epochs_list = [5]\n",
    "\n",
    "num_users = sdf_indexed.select(\"user_idx\").distinct().count()\n",
    "num_items = sdf_indexed.select(\"book_idx\").distinct().count()\n",
    "avg_rating = train_df.select(F.mean(\"rating_normalized\")).first()[0]\n",
    "\n",
    "best_rmse = np.inf\n",
    "best_params = {}\n",
    "\n",
    "total_iters = len(k_list) * len(lambda_list) * len(num_epochs_list)\n",
    "pbar = tqdm(total=total_iters, desc=\"Hyperparam tuning\")\n",
    "\n",
    "for k in k_list:\n",
    "    for lambda_reg in lambda_list:\n",
    "        for num_epochs in num_epochs_list:\n",
    "            w, v = initialize_factors(num_users, num_items, k, avg_rating)\n",
    "\n",
    "            for epoch in range(num_epochs):\n",
    "                # update users\n",
    "                user_updates = train_df.rdd \\\n",
    "                    .map(lambda row: (row['user_idx'], (row['book_idx'], row['rating_normalized']))) \\\n",
    "                    .groupByKey() \\\n",
    "                    .mapValues(lambda ratings: update_user_vector(list(ratings), v, k, lambda_reg)) \\\n",
    "                    .collect()\n",
    "                for u_idx, vec in user_updates:\n",
    "                    w[u_idx, :] = vec\n",
    "\n",
    "                # update items\n",
    "                item_updates = train_df.rdd \\\n",
    "                    .map(lambda row: (row['book_idx'], (row['user_idx'], row['rating_normalized']))) \\\n",
    "                    .groupByKey() \\\n",
    "                    .mapValues(lambda ratings: update_item_vector(list(ratings), w, k, lambda_reg)) \\\n",
    "                    .collect()\n",
    "                for i_idx, vec in item_updates:\n",
    "                    v[i_idx, :] = vec\n",
    "\n",
    "            test_rmse = compute_rmse_spark(test_df, w, v)\n",
    "            print(f\"k={k}, lambda={lambda_reg}, epochs={num_epochs} -> Test RMSE={test_rmse:.4f}\")\n",
    "\n",
    "            if test_rmse < best_rmse:\n",
    "                best_rmse = test_rmse\n",
    "                best_params = {'k': k, 'lambda': lambda_reg, 'num_epochs': num_epochs, 'w': w, 'v': v}\n",
    "\n",
    "            pbar.update(1)\n",
    "\n",
    "pbar.close()\n",
    "print(\"\\nBest params:\", best_params, \"Best Test RMSE:\", best_rmse)"
   ]
  },
  {
   "cell_type": "markdown",
   "metadata": {
    "id": "7wRRtW1sXp7z"
   },
   "source": [
    "Training (may take ~10min)"
   ]
  },
  {
   "cell_type": "code",
   "execution_count": 12,
   "metadata": {
    "colab": {
     "base_uri": "https://localhost:8080/",
     "height": 263,
     "referenced_widgets": [
      "111d58c4b01443e6850e6b001a2308e6",
      "6fdea04efb31436fb65fc6b5e33d7bc5",
      "64ef4ba562de4b99b52af1e144d2fa13",
      "8dbc9c6ef9f84567844a82a533fadf93",
      "c3a614b14dc448588e645d89461dcf4c",
      "d06d2218efe2415a9f4e71ef0275e7c0",
      "a10463890ff344c0896ae2704e806921",
      "01a631a7c5c94d7b8361162127a86e3d",
      "633978689ffe48a9a7e520b0dcf054b6",
      "df6d14da62fc45968f0411b09684d621",
      "58a0ba2e7b0442419031f29630f96f7f"
     ]
    },
    "id": "CHQZ1hj_AQV4",
    "outputId": "180411e5-10c5-457a-d5b4-80ddb427d5f4"
   },
   "outputs": [
    {
     "data": {
      "application/vnd.jupyter.widget-view+json": {
       "model_id": "111d58c4b01443e6850e6b001a2308e6",
       "version_major": 2,
       "version_minor": 0
      },
      "text/plain": [
       "Training ALS:   0%|          | 0/10 [00:00<?, ?it/s]"
      ]
     },
     "metadata": {},
     "output_type": "display_data"
    },
    {
     "name": "stdout",
     "output_type": "stream",
     "text": [
      "Epoch 0: Train RMSE=0.2429, Test RMSE=0.3070\n",
      "Epoch 1: Train RMSE=0.2112, Test RMSE=0.3061\n",
      "Epoch 2: Train RMSE=0.2025, Test RMSE=0.3043\n",
      "Epoch 3: Train RMSE=0.1995, Test RMSE=0.3039\n",
      "Epoch 4: Train RMSE=0.1978, Test RMSE=0.3038\n",
      "Epoch 5: Train RMSE=0.1968, Test RMSE=0.3038\n",
      "Epoch 6: Train RMSE=0.1960, Test RMSE=0.3038\n",
      "Epoch 7: Train RMSE=0.1955, Test RMSE=0.3039\n",
      "Epoch 8: Train RMSE=0.1951, Test RMSE=0.3038\n",
      "Epoch 9: Train RMSE=0.1947, Test RMSE=0.3038\n",
      "\n",
      "Training completed\n"
     ]
    }
   ],
   "source": [
    "from pyspark.sql import functions as F\n",
    "from tqdm.notebook import tqdm\n",
    "\n",
    "#parameters here are inserted manually for time constraints, but can be derived from tuning results\n",
    "k_fixed = 2\n",
    "lambda_fixed = 0.1\n",
    "num_epochs_fixed = 10\n",
    "\n",
    "num_users = sdf_indexed.select(\"user_idx\").distinct().count()\n",
    "num_items = sdf_indexed.select(\"book_idx\").distinct().count()\n",
    "avg_rating = train_df.select(F.mean(\"rating_normalized\")).first()[0]\n",
    "\n",
    "w, v = initialize_factors(num_users, num_items, k_fixed, avg_rating)\n",
    "\n",
    "for epoch in tqdm(range(num_epochs_fixed), desc=\"Training ALS\"):\n",
    "    # update user latent vectors\n",
    "    user_updates = train_df.rdd \\\n",
    "        .map(lambda row: (row['user_idx'], (row['book_idx'], row['rating_normalized']))) \\\n",
    "        .groupByKey() \\\n",
    "        .mapValues(lambda ratings: update_user_vector(list(ratings), v, k_fixed, lambda_fixed)) \\\n",
    "        .collect()\n",
    "    for u_idx, vec in user_updates:\n",
    "        w[u_idx, :] = vec\n",
    "\n",
    "    # update item latent vectors\n",
    "    item_updates = train_df.rdd \\\n",
    "        .map(lambda row: (row['book_idx'], (row['user_idx'], row['rating_normalized']))) \\\n",
    "        .groupByKey() \\\n",
    "        .mapValues(lambda ratings: update_item_vector(list(ratings), w, k_fixed, lambda_fixed)) \\\n",
    "        .collect()\n",
    "    for i_idx, vec in item_updates:\n",
    "        v[i_idx, :] = vec\n",
    "\n",
    "    # compute RMSE for convergence monitoring\n",
    "    train_rmse = compute_rmse_spark(train_df, w, v)\n",
    "    test_rmse = compute_rmse_spark(test_df, w, v)\n",
    "    print(f\"Epoch {epoch}: Train RMSE={train_rmse:.4f}, Test RMSE={test_rmse:.4f}\")\n",
    "\n",
    "w_final = w\n",
    "v_final = v\n",
    "\n",
    "print(\"\\nTraining completed\")"
   ]
  },
  {
   "cell_type": "markdown",
   "metadata": {
    "id": "erBOsFJveK3V"
   },
   "source": [
    "### Evaluation"
   ]
  },
  {
   "cell_type": "markdown",
   "metadata": {
    "id": "xPisfv79lIqu"
   },
   "source": [
    "Precision, Recall, Hit Rate and Coverage at different Top-N (may take ~10min)"
   ]
  },
  {
   "cell_type": "code",
   "execution_count": 13,
   "metadata": {
    "colab": {
     "base_uri": "https://localhost:8080/"
    },
    "id": "3ThBLmhJlSZY",
    "outputId": "acd6a5cd-a3b3-4c5b-e85d-0a49df72888f"
   },
   "outputs": [
    {
     "name": "stdout",
     "output_type": "stream",
     "text": [
      "Recommendation Metrics\n",
      "--------------------------------------------------\n",
      "k    Precision   Recall      Hit Rate    Coverage    \n",
      "3    0.0024      0.0028      0.0072      0.0004      \n",
      "5    0.0015      0.0028      0.0073      0.0006      \n",
      "10   0.0007      0.0028      0.0073      0.0011      \n",
      "20   0.0015      0.0117      0.0302      0.0019      \n"
     ]
    }
   ],
   "source": [
    "def evaluate_recommendations(w, v, test_df, num_users, num_items, k_list=[3,5,10,20], verbose=True):\n",
    "    all_user_indices = np.arange(num_users)\n",
    "    all_item_indices = np.arange(num_items)\n",
    "\n",
    "    results = {}\n",
    "\n",
    "    for topN in k_list:\n",
    "        user_topN_als = {}\n",
    "        for u in all_user_indices:\n",
    "            scores = np.dot(v, w[u,:])\n",
    "            top_items = np.argsort(scores)[::-1][:topN]\n",
    "            user_topN_als[u] = set(top_items)\n",
    "\n",
    "        hits = 0\n",
    "        total_relevant = 0\n",
    "        recommended_items = set()\n",
    "\n",
    "        for row in test_df.collect():\n",
    "            u_idx = row['user_idx']\n",
    "            i_idx = row['book_idx']\n",
    "            total_relevant += 1\n",
    "            recommended_items.update(user_topN_als[u_idx])\n",
    "            if i_idx in user_topN_als[u_idx]:\n",
    "                hits += 1\n",
    "\n",
    "        precision = hits / (len(user_topN_als) * topN)\n",
    "        recall = hits / total_relevant\n",
    "        hitrate = hits / len(user_topN_als)\n",
    "        coverage = len(recommended_items) / len(all_item_indices)\n",
    "\n",
    "        results[topN] = (precision, recall, hitrate, coverage)\n",
    "\n",
    "    if verbose:\n",
    "        print(\"Recommendation Metrics\")\n",
    "        print(\"-\" * 50)\n",
    "        print(f\"{'k':<5}{'Precision':<12}{'Recall':<12}{'Hit Rate':<12}{'Coverage':<12}\")\n",
    "        for k in k_list:\n",
    "            p, r, h, c = results[k]\n",
    "            print(f\"{k:<5}{p:<12.4f}{r:<12.4f}{h:<12.4f}{c:<12.4f}\")\n",
    "\n",
    "    return results\n",
    "\n",
    "results = evaluate_recommendations(w_final, v_final, test_df, num_users, num_items)"
   ]
  },
  {
   "cell_type": "markdown",
   "metadata": {
    "id": "MQ3WB-TIecsN"
   },
   "source": [
    "Comparison with random and popular baseline"
   ]
  },
  {
   "cell_type": "code",
   "execution_count": 15,
   "metadata": {
    "colab": {
     "base_uri": "https://localhost:8080/"
    },
    "id": "gstMudoqoeXp",
    "outputId": "4bca815a-07b1-4f29-d3f4-5e7a1100c0f6"
   },
   "outputs": [
    {
     "name": "stdout",
     "output_type": "stream",
     "text": [
      "\n",
      "Comparison at k=5\n",
      "--------------------------------------------------\n",
      "Metric      ALS       Random    Popularity\n",
      "Precision   0.0015    0.0000    0.0087    \n",
      "Recall      0.0028    0.0001    0.0167    \n",
      "Hit Rate    0.0073    0.0002    0.0433    \n",
      "Coverage    0.0006    0.9948    0.0001    \n",
      "\n",
      "Comparison at k=10\n",
      "--------------------------------------------------\n",
      "Metric      ALS       Random    Popularity\n",
      "Precision   0.0007    0.0000    0.0084    \n",
      "Recall      0.0028    0.0001    0.0323    \n",
      "Hit Rate    0.0073    0.0003    0.0835    \n",
      "Coverage    0.0011    1.0000    0.0002    \n"
     ]
    }
   ],
   "source": [
    "def compare_baselines(results, train_df, test_df, num_users, num_items, k_list=[5,10]):\n",
    "    # als\n",
    "    als_results = {k: results[k] for k in k_list}\n",
    "\n",
    "    # rand\n",
    "    all_user_indices = np.arange(num_users)\n",
    "    all_item_indices = np.arange(num_items)\n",
    "    rand_results = {}\n",
    "    for topN in k_list:\n",
    "        user_topN_rand = {u: set(np.random.choice(all_item_indices, size=topN, replace=False))\n",
    "                          for u in all_user_indices}\n",
    "        rand_results[topN] = evaluate_dict(user_topN_rand, test_df, num_users, num_items, topN)\n",
    "\n",
    "    # pop\n",
    "    item_counts = train_df.groupBy(\"book_idx\").count().collect()\n",
    "    item_counts = sorted(item_counts, key=lambda x: x['count'], reverse=True)\n",
    "    pop_results = {}\n",
    "    for topN in k_list:\n",
    "        popular_items = [row['book_idx'] for row in item_counts[:topN]]\n",
    "        user_topN_pop = {u: set(popular_items) for u in all_user_indices}\n",
    "        pop_results[topN] = evaluate_dict(user_topN_pop, test_df, num_users, num_items, topN)\n",
    "\n",
    "    for k in k_list:\n",
    "        print(f\"\\nComparison at k={k}\")\n",
    "        print(\"-\" * 50)\n",
    "        print(f\"{'Metric':<12}{'ALS':<10}{'Random':<10}{'Popularity':<10}\")\n",
    "        metrics = [\"Precision\", \"Recall\", \"Hit Rate\", \"Coverage\"]\n",
    "        for i, metric in enumerate(metrics):\n",
    "            als_val = als_results[k][i]\n",
    "            rand_val = rand_results[k][i]\n",
    "            pop_val = pop_results[k][i]\n",
    "            print(f\"{metric:<12}{als_val:<10.4f}{rand_val:<10.4f}{pop_val:<10.4f}\")\n",
    "\n",
    "def evaluate_dict(user_topN_dict, test_df, num_users, num_items, topN):\n",
    "    hits = 0\n",
    "    total_relevant = 0\n",
    "    recommended_items = set()\n",
    "\n",
    "    for row in test_df.collect():\n",
    "        u_idx = row['user_idx']\n",
    "        i_idx = row['book_idx']\n",
    "        total_relevant += 1\n",
    "        recommended_items.update(user_topN_dict[u_idx])\n",
    "        if i_idx in user_topN_dict[u_idx]:\n",
    "            hits += 1\n",
    "\n",
    "    precision = hits / (len(user_topN_dict) * topN)\n",
    "    recall = hits / total_relevant\n",
    "    hitrate = hits / num_users\n",
    "    coverage = len(recommended_items) / num_items\n",
    "\n",
    "    return (precision, recall, hitrate, coverage)\n",
    "\n",
    "compare_baselines(results, train_df, test_df, num_users, num_items)"
   ]
  },
  {
   "cell_type": "markdown",
   "metadata": {
    "id": "x0KtekR2fUOr"
   },
   "source": [
    "Latent Space analysis"
   ]
  },
  {
   "cell_type": "code",
   "execution_count": 22,
   "metadata": {
    "colab": {
     "base_uri": "https://localhost:8080/",
     "height": 719
    },
    "id": "3LVy1O-s3pCq",
    "outputId": "6d5fb39d-9c3f-4503-b816-2835e3572e65"
   },
   "outputs": [
    {
     "data": {
      "image/png": "[encoded data removed]",
      "text/plain": [
       "<Figure size 800x800 with 1 Axes>"
      ]
     },
     "metadata": {},
     "output_type": "display_data"
    }
   ],
   "source": [
    "import matplotlib.pyplot as plt\n",
    "import numpy as np\n",
    "import builtins  # to avoid Spark min() shadowing\n",
    "\n",
    "def plot_uv_space(w_final, v_final, n_users=200, n_items=200):\n",
    "\n",
    "    user_idx = np.random.choice(\n",
    "        w_final.shape[0],\n",
    "        size=builtins.min(n_users, w_final.shape[0]),\n",
    "        replace=False\n",
    "    )\n",
    "    item_idx = np.random.choice(\n",
    "        v_final.shape[0],\n",
    "        size=builtins.min(n_items, v_final.shape[0]),\n",
    "        replace=False\n",
    "    )\n",
    "\n",
    "    plt.figure(figsize=(8, 8))\n",
    "    plt.scatter(w_final[user_idx,0], w_final[user_idx,1], alpha=0.5, color=\"blue\", label=\"Users\")\n",
    "    plt.scatter(v_final[item_idx,0], v_final[item_idx,1], alpha=0.5, color=\"red\", label=\"Items\")\n",
    "\n",
    "    plt.title(\"Latent Space of Users and Books (Spark)\", fontsize=14)\n",
    "    plt.xlabel(\"Latent dimension 1\")\n",
    "    plt.ylabel(\"Latent dimension 2\")\n",
    "    plt.legend()\n",
    "    plt.grid(alpha=0.3)\n",
    "    plt.show()\n",
    "\n",
    "plot_uv_space(w_final, v_final)"
   ]
  }
 ],
 "metadata": {
  "colab": {
   "provenance": []
  },
  "kernelspec": {
   "display_name": "Python 3",
   "name": "python3"
  },
  "language_info": {
   "name": "python"
  },
  "widgets": {
   "application/vnd.jupyter.widget-state+json": {
    "01a631a7c5c94d7b8361162127a86e3d": {
     "model_module": "@jupyter-widgets/base",
     "model_module_version": "1.2.0",
     "model_name": "LayoutModel",
     "state": {
      "_model_module": "@jupyter-widgets/base",
      "_model_module_version": "1.2.0",
      "_model_name": "LayoutModel",
      "_view_count": null,
      "_view_module": "@jupyter-widgets/base",
      "_view_module_version": "1.2.0",
      "_view_name": "LayoutView",
      "align_content": null,
      "align_items": null,
      "align_self": null,
      "border": null,
      "bottom": null,
      "display": null,
      "flex": null,
      "flex_flow": null,
      "grid_area": null,
      "grid_auto_columns": null,
      "grid_auto_flow": null,
      "grid_auto_rows": null,
      "grid_column": null,
      "grid_gap": null,
      "grid_row": null,
      "grid_template_areas": null,
      "grid_template_columns": null,
      "grid_template_rows": null,
      "height": null,
      "justify_content": null,
      "justify_items": null,
      "left": null,
      "margin": null,
      "max_height": null,
      "max_width": null,
      "min_height": null,
      "min_width": null,
      "object_fit": null,
      "object_position": null,
      "order": null,
      "overflow": null,
      "overflow_x": null,
      "overflow_y": null,
      "padding": null,
      "right": null,
      "top": null,
      "visibility": null,
      "width": null
     }
    },
    "111d58c4b01443e6850e6b001a2308e6": {
     "model_module": "@jupyter-widgets/controls",
     "model_module_version": "1.5.0",
     "model_name": "HBoxModel",
     "state": {
      "_dom_classes": [],
      "_model_module": "@jupyter-widgets/controls",
      "_model_module_version": "1.5.0",
      "_model_name": "HBoxModel",
      "_view_count": null,
      "_view_module": "@jupyter-widgets/controls",
      "_view_module_version": "1.5.0",
      "_view_name": "HBoxView",
      "box_style": "",
      "children": [
       "IPY_MODEL_6fdea04efb31436fb65fc6b5e33d7bc5",
       "IPY_MODEL_64ef4ba562de4b99b52af1e144d2fa13",
       "IPY_MODEL_8dbc9c6ef9f84567844a82a533fadf93"
      ],
      "layout": "IPY_MODEL_c3a614b14dc448588e645d89461dcf4c"
     }
    },
    "3b725615494e448cb0762bbc8e672c1b": {
     "model_module": "@jupyter-widgets/controls",
     "model_module_version": "1.5.0",
     "model_name": "DescriptionStyleModel",
     "state": {
      "_model_module": "@jupyter-widgets/controls",
      "_model_module_version": "1.5.0",
      "_model_name": "DescriptionStyleModel",
      "_view_count": null,
      "_view_module": "@jupyter-widgets/base",
      "_view_module_version": "1.2.0",
      "_view_name": "StyleView",
      "description_width": ""
     }
    },
    "58a0ba2e7b0442419031f29630f96f7f": {
     "model_module": "@jupyter-widgets/controls",
     "model_module_version": "1.5.0",
     "model_name": "DescriptionStyleModel",
     "state": {
      "_model_module": "@jupyter-widgets/controls",
      "_model_module_version": "1.5.0",
      "_model_name": "DescriptionStyleModel",
      "_view_count": null,
      "_view_module": "@jupyter-widgets/base",
      "_view_module_version": "1.2.0",
      "_view_name": "StyleView",
      "description_width": ""
     }
    },
    "5f7539ae2355435e9867ae2dbe60add8": {
     "model_module": "@jupyter-widgets/base",
     "model_module_version": "1.2.0",
     "model_name": "LayoutModel",
     "state": {
      "_model_module": "@jupyter-widgets/base",
      "_model_module_version": "1.2.0",
      "_model_name": "LayoutModel",
      "_view_count": null,
      "_view_module": "@jupyter-widgets/base",
      "_view_module_version": "1.2.0",
      "_view_name": "LayoutView",
      "align_content": null,
      "align_items": null,
      "align_self": null,
      "border": null,
      "bottom": null,
      "display": null,
      "flex": null,
      "flex_flow": null,
      "grid_area": null,
      "grid_auto_columns": null,
      "grid_auto_flow": null,
      "grid_auto_rows": null,
      "grid_column": null,
      "grid_gap": null,
      "grid_row": null,
      "grid_template_areas": null,
      "grid_template_columns": null,
      "grid_template_rows": null,
      "height": null,
      "justify_content": null,
      "justify_items": null,
      "left": null,
      "margin": null,
      "max_height": null,
      "max_width": null,
      "min_height": null,
      "min_width": null,
      "object_fit": null,
      "object_position": null,
      "order": null,
      "overflow": null,
      "overflow_x": null,
      "overflow_y": null,
      "padding": null,
      "right": null,
      "top": null,
      "visibility": null,
      "width": null
     }
    },
    "633978689ffe48a9a7e520b0dcf054b6": {
     "model_module": "@jupyter-widgets/controls",
     "model_module_version": "1.5.0",
     "model_name": "ProgressStyleModel",
     "state": {
      "_model_module": "@jupyter-widgets/controls",
      "_model_module_version": "1.5.0",
      "_model_name": "ProgressStyleModel",
      "_view_count": null,
      "_view_module": "@jupyter-widgets/base",
      "_view_module_version": "1.2.0",
      "_view_name": "StyleView",
      "bar_color": null,
      "description_width": ""
     }
    },
    "64ef4ba562de4b99b52af1e144d2fa13": {
     "model_module": "@jupyter-widgets/controls",
     "model_module_version": "1.5.0",
     "model_name": "FloatProgressModel",
     "state": {
      "_dom_classes": [],
      "_model_module": "@jupyter-widgets/controls",
      "_model_module_version": "1.5.0",
      "_model_name": "FloatProgressModel",
      "_view_count": null,
      "_view_module": "@jupyter-widgets/controls",
      "_view_module_version": "1.5.0",
      "_view_name": "ProgressView",
      "bar_style": "success",
      "description": "",
      "description_tooltip": null,
      "layout": "IPY_MODEL_01a631a7c5c94d7b8361162127a86e3d",
      "max": 10,
      "min": 0,
      "orientation": "horizontal",
      "style": "IPY_MODEL_633978689ffe48a9a7e520b0dcf054b6",
      "value": 10
     }
    },
    "6fdea04efb31436fb65fc6b5e33d7bc5": {
     "model_module": "@jupyter-widgets/controls",
     "model_module_version": "1.5.0",
     "model_name": "HTMLModel",
     "state": {
      "_dom_classes": [],
      "_model_module": "@jupyter-widgets/controls",
      "_model_module_version": "1.5.0",
      "_model_name": "HTMLModel",
      "_view_count": null,
      "_view_module": "@jupyter-widgets/controls",
      "_view_module_version": "1.5.0",
      "_view_name": "HTMLView",
      "description": "",
      "description_tooltip": null,
      "layout": "IPY_MODEL_d06d2218efe2415a9f4e71ef0275e7c0",
      "placeholder": "​",
      "style": "IPY_MODEL_a10463890ff344c0896ae2704e806921",
      "value": "Training ALS: 100%"
     }
    },
    "8bf0fa28981f44aa871dfedbd5d25d9e": {
     "model_module": "@jupyter-widgets/controls",
     "model_module_version": "1.5.0",
     "model_name": "ProgressStyleModel",
     "state": {
      "_model_module": "@jupyter-widgets/controls",
      "_model_module_version": "1.5.0",
      "_model_name": "ProgressStyleModel",
      "_view_count": null,
      "_view_module": "@jupyter-widgets/base",
      "_view_module_version": "1.2.0",
      "_view_name": "StyleView",
      "bar_color": null,
      "description_width": ""
     }
    },
    "8dbc9c6ef9f84567844a82a533fadf93": {
     "model_module": "@jupyter-widgets/controls",
     "model_module_version": "1.5.0",
     "model_name": "HTMLModel",
     "state": {
      "_dom_classes": [],
      "_model_module": "@jupyter-widgets/controls",
      "_model_module_version": "1.5.0",
      "_model_name": "HTMLModel",
      "_view_count": null,
      "_view_module": "@jupyter-widgets/controls",
      "_view_module_version": "1.5.0",
      "_view_name": "HTMLView",
      "description": "",
      "description_tooltip": null,
      "layout": "IPY_MODEL_df6d14da62fc45968f0411b09684d621",
      "placeholder": "​",
      "style": "IPY_MODEL_58a0ba2e7b0442419031f29630f96f7f",
      "value": " 10/10 [10:21&lt;00:00, 55.45s/it]"
     }
    },
    "96e1a90f4b9d47e38e28c7079832f331": {
     "model_module": "@jupyter-widgets/base",
     "model_module_version": "1.2.0",
     "model_name": "LayoutModel",
     "state": {
      "_model_module": "@jupyter-widgets/base",
      "_model_module_version": "1.2.0",
      "_model_name": "LayoutModel",
      "_view_count": null,
      "_view_module": "@jupyter-widgets/base",
      "_view_module_version": "1.2.0",
      "_view_name": "LayoutView",
      "align_content": null,
      "align_items": null,
      "align_self": null,
      "border": null,
      "bottom": null,
      "display": null,
      "flex": null,
      "flex_flow": null,
      "grid_area": null,
      "grid_auto_columns": null,
      "grid_auto_flow": null,
      "grid_auto_rows": null,
      "grid_column": null,
      "grid_gap": null,
      "grid_row": null,
      "grid_template_areas": null,
      "grid_template_columns": null,
      "grid_template_rows": null,
      "height": null,
      "justify_content": null,
      "justify_items": null,
      "left": null,
      "margin": null,
      "max_height": null,
      "max_width": null,
      "min_height": null,
      "min_width": null,
      "object_fit": null,
      "object_position": null,
      "order": null,
      "overflow": null,
      "overflow_x": null,
      "overflow_y": null,
      "padding": null,
      "right": null,
      "top": null,
      "visibility": null,
      "width": null
     }
    },
    "a10463890ff344c0896ae2704e806921": {
     "model_module": "@jupyter-widgets/controls",
     "model_module_version": "1.5.0",
     "model_name": "DescriptionStyleModel",
     "state": {
      "_model_module": "@jupyter-widgets/controls",
      "_model_module_version": "1.5.0",
      "_model_name": "DescriptionStyleModel",
      "_view_count": null,
      "_view_module": "@jupyter-widgets/base",
      "_view_module_version": "1.2.0",
      "_view_name": "StyleView",
      "description_width": ""
     }
    },
    "a166f1e781c149518ecb24306e758fcb": {
     "model_module": "@jupyter-widgets/base",
     "model_module_version": "1.2.0",
     "model_name": "LayoutModel",
     "state": {
      "_model_module": "@jupyter-widgets/base",
      "_model_module_version": "1.2.0",
      "_model_name": "LayoutModel",
      "_view_count": null,
      "_view_module": "@jupyter-widgets/base",
      "_view_module_version": "1.2.0",
      "_view_name": "LayoutView",
      "align_content": null,
      "align_items": null,
      "align_self": null,
      "border": null,
      "bottom": null,
      "display": null,
      "flex": null,
      "flex_flow": null,
      "grid_area": null,
      "grid_auto_columns": null,
      "grid_auto_flow": null,
      "grid_auto_rows": null,
      "grid_column": null,
      "grid_gap": null,
      "grid_row": null,
      "grid_template_areas": null,
      "grid_template_columns": null,
      "grid_template_rows": null,
      "height": null,
      "justify_content": null,
      "justify_items": null,
      "left": null,
      "margin": null,
      "max_height": null,
      "max_width": null,
      "min_height": null,
      "min_width": null,
      "object_fit": null,
      "object_position": null,
      "order": null,
      "overflow": null,
      "overflow_x": null,
      "overflow_y": null,
      "padding": null,
      "right": null,
      "top": null,
      "visibility": null,
      "width": null
     }
    },
    "ac9b3b73ae9f4f82a2d0bb99fd067479": {
     "model_module": "@jupyter-widgets/controls",
     "model_module_version": "1.5.0",
     "model_name": "FloatProgressModel",
     "state": {
      "_dom_classes": [],
      "_model_module": "@jupyter-widgets/controls",
      "_model_module_version": "1.5.0",
      "_model_name": "FloatProgressModel",
      "_view_count": null,
      "_view_module": "@jupyter-widgets/controls",
      "_view_module_version": "1.5.0",
      "_view_name": "ProgressView",
      "bar_style": "success",
      "description": "",
      "description_tooltip": null,
      "layout": "IPY_MODEL_5f7539ae2355435e9867ae2dbe60add8",
      "max": 4,
      "min": 0,
      "orientation": "horizontal",
      "style": "IPY_MODEL_8bf0fa28981f44aa871dfedbd5d25d9e",
      "value": 4
     }
    },
    "b400db89de7c4feab7c5cc449e43be70": {
     "model_module": "@jupyter-widgets/controls",
     "model_module_version": "1.5.0",
     "model_name": "HBoxModel",
     "state": {
      "_dom_classes": [],
      "_model_module": "@jupyter-widgets/controls",
      "_model_module_version": "1.5.0",
      "_model_name": "HBoxModel",
      "_view_count": null,
      "_view_module": "@jupyter-widgets/controls",
      "_view_module_version": "1.5.0",
      "_view_name": "HBoxView",
      "box_style": "",
      "children": [
       "IPY_MODEL_bfe274409f72445ea023bbd3d2cf4a3a",
       "IPY_MODEL_ac9b3b73ae9f4f82a2d0bb99fd067479",
       "IPY_MODEL_eafff4bfb1da4165affdb172601aaac2"
      ],
      "layout": "IPY_MODEL_a166f1e781c149518ecb24306e758fcb"
     }
    },
    "bfe274409f72445ea023bbd3d2cf4a3a": {
     "model_module": "@jupyter-widgets/controls",
     "model_module_version": "1.5.0",
     "model_name": "HTMLModel",
     "state": {
      "_dom_classes": [],
      "_model_module": "@jupyter-widgets/controls",
      "_model_module_version": "1.5.0",
      "_model_name": "HTMLModel",
      "_view_count": null,
      "_view_module": "@jupyter-widgets/controls",
      "_view_module_version": "1.5.0",
      "_view_name": "HTMLView",
      "description": "",
      "description_tooltip": null,
      "layout": "IPY_MODEL_d7523fa6b0884898abc8781f6df19520",
      "placeholder": "​",
      "style": "IPY_MODEL_e11c1126434d4af5907307b6cb82e016",
      "value": "Hyperparam tuning: 100%"
     }
    },
    "c3a614b14dc448588e645d89461dcf4c": {
     "model_module": "@jupyter-widgets/base",
     "model_module_version": "1.2.0",
     "model_name": "LayoutModel",
     "state": {
      "_model_module": "@jupyter-widgets/base",
      "_model_module_version": "1.2.0",
      "_model_name": "LayoutModel",
      "_view_count": null,
      "_view_module": "@jupyter-widgets/base",
      "_view_module_version": "1.2.0",
      "_view_name": "LayoutView",
      "align_content": null,
      "align_items": null,
      "align_self": null,
      "border": null,
      "bottom": null,
      "display": null,
      "flex": null,
      "flex_flow": null,
      "grid_area": null,
      "grid_auto_columns": null,
      "grid_auto_flow": null,
      "grid_auto_rows": null,
      "grid_column": null,
      "grid_gap": null,
      "grid_row": null,
      "grid_template_areas": null,
      "grid_template_columns": null,
      "grid_template_rows": null,
      "height": null,
      "justify_content": null,
      "justify_items": null,
      "left": null,
      "margin": null,
      "max_height": null,
      "max_width": null,
      "min_height": null,
      "min_width": null,
      "object_fit": null,
      "object_position": null,
      "order": null,
      "overflow": null,
      "overflow_x": null,
      "overflow_y": null,
      "padding": null,
      "right": null,
      "top": null,
      "visibility": null,
      "width": null
     }
    },
    "d06d2218efe2415a9f4e71ef0275e7c0": {
     "model_module": "@jupyter-widgets/base",
     "model_module_version": "1.2.0",
     "model_name": "LayoutModel",
     "state": {
      "_model_module": "@jupyter-widgets/base",
      "_model_module_version": "1.2.0",
      "_model_name": "LayoutModel",
      "_view_count": null,
      "_view_module": "@jupyter-widgets/base",
      "_view_module_version": "1.2.0",
      "_view_name": "LayoutView",
      "align_content": null,
      "align_items": null,
      "align_self": null,
      "border": null,
      "bottom": null,
      "display": null,
      "flex": null,
      "flex_flow": null,
      "grid_area": null,
      "grid_auto_columns": null,
      "grid_auto_flow": null,
      "grid_auto_rows": null,
      "grid_column": null,
      "grid_gap": null,
      "grid_row": null,
      "grid_template_areas": null,
      "grid_template_columns": null,
      "grid_template_rows": null,
      "height": null,
      "justify_content": null,
      "justify_items": null,
      "left": null,
      "margin": null,
      "max_height": null,
      "max_width": null,
      "min_height": null,
      "min_width": null,
      "object_fit": null,
      "object_position": null,
      "order": null,
      "overflow": null,
      "overflow_x": null,
      "overflow_y": null,
      "padding": null,
      "right": null,
      "top": null,
      "visibility": null,
      "width": null
     }
    },
    "d7523fa6b0884898abc8781f6df19520": {
     "model_module": "@jupyter-widgets/base",
     "model_module_version": "1.2.0",
     "model_name": "LayoutModel",
     "state": {
      "_model_module": "@jupyter-widgets/base",
      "_model_module_version": "1.2.0",
      "_model_name": "LayoutModel",
      "_view_count": null,
      "_view_module": "@jupyter-widgets/base",
      "_view_module_version": "1.2.0",
      "_view_name": "LayoutView",
      "align_content": null,
      "align_items": null,
      "align_self": null,
      "border": null,
      "bottom": null,
      "display": null,
      "flex": null,
      "flex_flow": null,
      "grid_area": null,
      "grid_auto_columns": null,
      "grid_auto_flow": null,
      "grid_auto_rows": null,
      "grid_column": null,
      "grid_gap": null,
      "grid_row": null,
      "grid_template_areas": null,
      "grid_template_columns": null,
      "grid_template_rows": null,
      "height": null,
      "justify_content": null,
      "justify_items": null,
      "left": null,
      "margin": null,
      "max_height": null,
      "max_width": null,
      "min_height": null,
      "min_width": null,
      "object_fit": null,
      "object_position": null,
      "order": null,
      "overflow": null,
      "overflow_x": null,
      "overflow_y": null,
      "padding": null,
      "right": null,
      "top": null,
      "visibility": null,
      "width": null
     }
    },
    "df6d14da62fc45968f0411b09684d621": {
     "model_module": "@jupyter-widgets/base",
     "model_module_version": "1.2.0",
     "model_name": "LayoutModel",
     "state": {
      "_model_module": "@jupyter-widgets/base",
      "_model_module_version": "1.2.0",
      "_model_name": "LayoutModel",
      "_view_count": null,
      "_view_module": "@jupyter-widgets/base",
      "_view_module_version": "1.2.0",
      "_view_name": "LayoutView",
      "align_content": null,
      "align_items": null,
      "align_self": null,
      "border": null,
      "bottom": null,
      "display": null,
      "flex": null,
      "flex_flow": null,
      "grid_area": null,
      "grid_auto_columns": null,
      "grid_auto_flow": null,
      "grid_auto_rows": null,
      "grid_column": null,
      "grid_gap": null,
      "grid_row": null,
      "grid_template_areas": null,
      "grid_template_columns": null,
      "grid_template_rows": null,
      "height": null,
      "justify_content": null,
      "justify_items": null,
      "left": null,
      "margin": null,
      "max_height": null,
      "max_width": null,
      "min_height": null,
      "min_width": null,
      "object_fit": null,
      "object_position": null,
      "order": null,
      "overflow": null,
      "overflow_x": null,
      "overflow_y": null,
      "padding": null,
      "right": null,
      "top": null,
      "visibility": null,
      "width": null
     }
    },
    "e11c1126434d4af5907307b6cb82e016": {
     "model_module": "@jupyter-widgets/controls",
     "model_module_version": "1.5.0",
     "model_name": "DescriptionStyleModel",
     "state": {
      "_model_module": "@jupyter-widgets/controls",
      "_model_module_version": "1.5.0",
      "_model_name": "DescriptionStyleModel",
      "_view_count": null,
      "_view_module": "@jupyter-widgets/base",
      "_view_module_version": "1.2.0",
      "_view_name": "StyleView",
      "description_width": ""
     }
    },
    "eafff4bfb1da4165affdb172601aaac2": {
     "model_module": "@jupyter-widgets/controls",
     "model_module_version": "1.5.0",
     "model_name": "HTMLModel",
     "state": {
      "_dom_classes": [],
      "_model_module": "@jupyter-widgets/controls",
      "_model_module_version": "1.5.0",
      "_model_name": "HTMLModel",
      "_view_count": null,
      "_view_module": "@jupyter-widgets/controls",
      "_view_module_version": "1.5.0",
      "_view_name": "HTMLView",
      "description": "",
      "description_tooltip": null,
      "layout": "IPY_MODEL_96e1a90f4b9d47e38e28c7079832f331",
      "placeholder": "​",
      "style": "IPY_MODEL_3b725615494e448cb0762bbc8e672c1b",
      "value": " 4/4 [23:45&lt;00:00, 368.40s/it]"
     }
    }
   }
  }
 },
 "nbformat": 4,
 "nbformat_minor": 0
}
